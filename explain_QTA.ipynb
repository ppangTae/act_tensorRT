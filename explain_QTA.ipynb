{
 "cells": [
  {
   "cell_type": "code",
   "execution_count": null,
   "id": "17d7b99e-6e27-42c4-b29f-544c15f4640f",
   "metadata": {},
   "outputs": [],
   "source": [
    "quant_desc_input = QuantDescriptor(calib_method='histogram')\n",
    "quant_nn.QuantConv2d.set_default_quant_desc_input(quant_desc_input)\n",
    "quant_nn.QuantLinear.set_default_quant_desc_input(quant_desc_input)"
   ]
  },
  {
   "cell_type": "code",
   "execution_count": 2,
   "id": "cef83bb6-6bc4-4707-8ff8-c62f7b9d05d3",
   "metadata": {},
   "outputs": [],
   "source": [
    "from pytorch_quantization import quant_modules\n",
    "quant_modules.initialize()"
   ]
  },
  {
   "cell_type": "code",
   "execution_count": null,
   "id": "129d8a78-557a-4b15-9ac3-46aaab1cc129",
   "metadata": {},
   "outputs": [],
   "source": [
    "model = "
   ]
  },
  {
   "cell_type": "markdown",
   "id": "86b61646-8074-4c43-9b60-e52f36d999b2",
   "metadata": {},
   "source": [
    "`참고문헌`\n",
    "[1] [로봇 ML 모델의 경량화 2부: 양자화 인식 훈련](https://techblog.woowahan.com/21176/)\n",
    "[2] [calibrate_quant_resnet50 example](https://github.com/NVIDIA/TensorRT/blob/main/tools/pytorch-quantization/examples/calibrate_quant_resnet50.ipynb)"
   ]
  }
 ],
 "metadata": {
  "kernelspec": {
   "display_name": "Python 3 (ipykernel)",
   "language": "python",
   "name": "python3"
  },
  "language_info": {
   "codemirror_mode": {
    "name": "ipython",
    "version": 3
   },
   "file_extension": ".py",
   "mimetype": "text/x-python",
   "name": "python",
   "nbconvert_exporter": "python",
   "pygments_lexer": "ipython3",
   "version": "3.10.12"
  }
 },
 "nbformat": 4,
 "nbformat_minor": 5
}
